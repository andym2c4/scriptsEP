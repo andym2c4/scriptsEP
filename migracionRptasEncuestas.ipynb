{
  "nbformat": 4,
  "nbformat_minor": 0,
  "metadata": {
    "colab": {
      "provenance": [],
      "authorship_tag": "ABX9TyOq/z42lmsq2o1HaRu5n+Yr",
      "include_colab_link": true
    },
    "kernelspec": {
      "name": "python3",
      "display_name": "Python 3"
    },
    "language_info": {
      "name": "python"
    }
  },
  "cells": [
    {
      "cell_type": "markdown",
      "metadata": {
        "id": "view-in-github",
        "colab_type": "text"
      },
      "source": [
        "<a href=\"https://colab.research.google.com/github/andym2c4/scriptsEP/blob/main/migracionRptasEncuestas.ipynb\" target=\"_parent\"><img src=\"https://colab.research.google.com/assets/colab-badge.svg\" alt=\"Open In Colab\"/></a>"
      ]
    },
    {
      "cell_type": "code",
      "execution_count": null,
      "metadata": {
        "colab": {
          "base_uri": "https://localhost:8080/"
        },
        "id": "7cbshCyxmlHP",
        "outputId": "d8c668d1-3e15-433f-8548-e4a4ac5fc253"
      },
      "outputs": [
        {
          "output_type": "stream",
          "name": "stdout",
          "text": [
            "Por favor, copia y pega tu JSON aquí:\n",
            "{\"title\":\"¡Boleta de salida!\",\"description\":\"Queremos saber qué piensas; así podemos integrar tus opiniones, intereses y necesidades al diseño de cada experiencia de aprendizaje. Eso nos ayuda a mejorar nuestro servicio y tu experiencia. \",\"sections\":[{\"sectionName\":\"¿Qué tan de acuerdo estás con las siguientes afirmaciones sobre este experiencia de aprendizaje?\",\"questions\":[{\"question\":\"1- Las situaciones abordadas se relacionan con mi vivencia en la comunidad educativa (como estudiante, docente, directivo u otro)\",\"answers\":[\"Definitivamente SÍ estoy de acuerdo\",\"SÍ estoy de acuerdo\",\"Ni en desacuerdo, ni de acuerdo\",\"NO estoy de acuerdo\",\"Definitivamente NO estoy de acuerdo\"],\"type\":\"single\"},{\"question\":\"2- Encontré herramientas o estrategias que quiero poner en práctica en mi vida profesional y/o personal\",\"answers\":[\"Definitivamente SÍ estoy de acuerdo\",\"SÍ estoy de acuerdo\",\"Ni en desacuerdo, ni de acuerdo\",\"NO estoy de acuerdo\",\"Definitivamente NO estoy de acuerdo\"],\"type\":\"single\"},{\"question\":\"3- Se compartió información basada en investigaciones, enfoques y/o metodologías relevantes\",\"answers\":[\"Definitivamente SÍ estoy de acuerdo\",\"SÍ estoy de acuerdo\",\"Ni en desacuerdo, ni de acuerdo\",\"NO estoy de acuerdo\",\"Definitivamente NO estoy de acuerdo\"],\"type\":\"single\"},{\"question\":\"4- Las actividades que realicé me permitieron conectar y colaborar con otrxs participantes\",\"answers\":[\"Definitivamente SÍ estoy de acuerdo\",\"SÍ estoy de acuerdo\",\"Ni en desacuerdo, ni de acuerdo\",\"NO estoy de acuerdo\",\"Definitivamente NO estoy de acuerdo\"],\"type\":\"single\"},{\"question\":\"Definitivamente NO estoy de acuerdo\",\"answers\":[\"Definitivamente SÍ estoy de acuerdo\",\"SÍ estoy de acuerdo\",\"Ni en desacuerdo, ni de acuerdo\",\"NO estoy de acuerdo\",\"Definitivamente NO estoy de acuerdo\"],\"type\":\"single\"},{\"question\":\"6- Explica el propósito: Brevemente y con tus propias palabras cuéntanos cuál fue el objetivo de esta experiencia de aprendizaje.\",\"answers\":[],\"type\":\"text\"},{\"question\":\"7- Describe tu aprendizaje: Cuéntanos las ideas más importantes que han surgido o se han ampliado en ti (puedes incluir ejemplos).\",\"answers\":[],\"type\":\"text\"},{\"question\":\"8- Menciona un aspecto de la experiencia que te haya parecido bueno y un aspecto que mejorarías.\",\"answers\":[],\"type\":\"text\"},{\"question\":\"9- ¿Cuál es la probabilidad de que recomiendes esta experiencia de aprendizaje a otra persona (compañerx o colega)?\",\"answers\":[\"0\",\"1\",\"2\",\"3\",\"4\",\"5\",\"6\",\"7\",\"8\",\"9\",\"10\"],\"type\":\"range\"}]}]}\n",
            "[{'question': '1- Las situaciones abordadas se relacionan con mi vivencia en la comunidad educativa (como estudiante, docente, directivo u otro)', 'answers': ['Definitivamente SÍ estoy de acuerdo', 'SÍ estoy de acuerdo', 'Ni en desacuerdo, ni de acuerdo', 'NO estoy de acuerdo', 'Definitivamente NO estoy de acuerdo'], 'type': 'single'}, {'question': '2- Encontré herramientas o estrategias que quiero poner en práctica en mi vida profesional y/o personal', 'answers': ['Definitivamente SÍ estoy de acuerdo', 'SÍ estoy de acuerdo', 'Ni en desacuerdo, ni de acuerdo', 'NO estoy de acuerdo', 'Definitivamente NO estoy de acuerdo'], 'type': 'single'}, {'question': '3- Se compartió información basada en investigaciones, enfoques y/o metodologías relevantes', 'answers': ['Definitivamente SÍ estoy de acuerdo', 'SÍ estoy de acuerdo', 'Ni en desacuerdo, ni de acuerdo', 'NO estoy de acuerdo', 'Definitivamente NO estoy de acuerdo'], 'type': 'single'}, {'question': '4- Las actividades que realicé me permitieron conectar y colaborar con otrxs participantes', 'answers': ['Definitivamente SÍ estoy de acuerdo', 'SÍ estoy de acuerdo', 'Ni en desacuerdo, ni de acuerdo', 'NO estoy de acuerdo', 'Definitivamente NO estoy de acuerdo'], 'type': 'single'}, {'question': 'Definitivamente NO estoy de acuerdo', 'answers': ['Definitivamente SÍ estoy de acuerdo', 'SÍ estoy de acuerdo', 'Ni en desacuerdo, ni de acuerdo', 'NO estoy de acuerdo', 'Definitivamente NO estoy de acuerdo'], 'type': 'single'}, {'question': '6- Explica el propósito: Brevemente y con tus propias palabras cuéntanos cuál fue el objetivo de esta experiencia de aprendizaje.', 'answers': [], 'type': 'text'}, {'question': '7- Describe tu aprendizaje: Cuéntanos las ideas más importantes que han surgido o se han ampliado en ti (puedes incluir ejemplos).', 'answers': [], 'type': 'text'}, {'question': '8- Menciona un aspecto de la experiencia que te haya parecido bueno y un aspecto que mejorarías.', 'answers': [], 'type': 'text'}, {'question': '9- ¿Cuál es la probabilidad de que recomiendes esta experiencia de aprendizaje a otra persona (compañerx o colega)?', 'answers': ['0', '1', '2', '3', '4', '5', '6', '7', '8', '9', '10'], 'type': 'range'}]\n",
            "['1- Las situaciones abordadas se relacionan con mi vivencia en la comunidad educativa (como estudiante, docente, directivo u otro)', '2- Encontré herramientas o estrategias que quiero poner en práctica en mi vida profesional y/o personal', '3- Se compartió información basada en investigaciones, enfoques y/o metodologías relevantes', '4- Las actividades que realicé me permitieron conectar y colaborar con otrxs participantes', 'Definitivamente NO estoy de acuerdo', '6- Explica el propósito: Brevemente y con tus propias palabras cuéntanos cuál fue el objetivo de esta experiencia de aprendizaje.', '7- Describe tu aprendizaje: Cuéntanos las ideas más importantes que han surgido o se han ampliado en ti (puedes incluir ejemplos).', '8- Menciona un aspecto de la experiencia que te haya parecido bueno y un aspecto que mejorarías.', '9- ¿Cuál es la probabilidad de que recomiendes esta experiencia de aprendizaje a otra persona (compañerx o colega)?']\n"
          ]
        }
      ],
      "source": [
        "import json\n",
        "\n",
        "# Solicitar al usuario que ingrese el JSON como un texto largo\n",
        "json_text = input(\"Por favor, copia y pega tu JSON aquí:\\n\")\n",
        "\n",
        "# Cargar el JSON desde el texto ingresado por el usuario\n",
        "try:\n",
        "    data = json.loads(json_text)\n",
        "except json.JSONDecodeError as e:\n",
        "    print(\"Error al decodificar el JSON:\", e)\n",
        "    # Puedes manejar el error de alguna manera, como salir del programa\n",
        "    exit()\n",
        "\n",
        "# Inicializar un arreglo para almacenar todas las preguntas\n",
        "all_questions = []\n",
        "\n",
        "# Recorrer todas las secciones\n",
        "for section in data.get(\"sections\", []):\n",
        "    # Recorrer todas las preguntas en cada sección\n",
        "    for question in section.get(\"questions\", []):\n",
        "        # Agregar la pregunta al arreglo de preguntas\n",
        "        all_questions.append(question)\n",
        "\n",
        "# Imprimir el arreglo de preguntas\n",
        "print(all_questions)\n",
        "# Inicializar una lista para almacenar los textos de todas las preguntas\n",
        "textos_preguntas = []\n",
        "\n",
        "# Recorrer todas las secciones\n",
        "for section in data.get(\"sections\", []):\n",
        "    # Recorrer todas las preguntas en cada sección\n",
        "    for question in section.get(\"questions\", []):\n",
        "        # Obtener el texto de la pregunta y agregarlo a la lista\n",
        "        pregunta_texto = question.get(\"question\", \"\")\n",
        "        textos_preguntas.append(pregunta_texto)\n",
        "\n",
        "# Imprimir el arreglo de textos de preguntas\n",
        "print(textos_preguntas)\n",
        "\n",
        "\n"
      ]
    },
    {
      "cell_type": "code",
      "source": [
        "import pandas as pd\n",
        "\n",
        "def leer_datos_desde_google_sheets(url, columna_final, fila_final):\n",
        "    # Construir la URL para exportar en formato de hoja de cálculo\n",
        "    url_export = url.replace(\"/edit?usp=sharing\", \"/export?format=xlsx\")\n",
        "\n",
        "    # Leer el archivo de Excel desde la URL exportada\n",
        "    df = pd.read_excel(url_export)\n",
        "\n",
        "    # Verificar si la columna final especificada existe en el DataFrame\n",
        "    if columna_final not in df.columns:\n",
        "        raise ValueError(\"La columna final especificada no existe en el DataFrame.\")\n",
        "\n",
        "    # Seleccionar las columnas y filas especificadas\n",
        "    datos_seleccionados = df.loc[:fila_final, :'{}'.format(columna_final)]\n",
        "\n",
        "    return datos_seleccionados\n",
        "\n",
        "# URL del archivo de Google Sheets\n",
        "url_google_sheets = \"https://docs.google.com/spreadsheets/d/1O-5W8wE-5td6TqtaGJzN1xM3oA84VNfWu5qnwlx9Dcw/edit?usp=sharing\"\n",
        "\n",
        "# Columna final y fila final especificadas\n",
        "columna_final = \"p10_f_recom\"\n",
        "fila_final = 631\n",
        "\n",
        "# Leer los datos desde el archivo de Google Sheets\n",
        "datos_google_sheets = leer_datos_desde_google_sheets(url_google_sheets, columna_final, fila_final)\n",
        "\n",
        "# Imprimir los datos leídos\n",
        "#print(datos_google_sheets)\n",
        "\n",
        "def modificar_datos(df):\n",
        "    # Seleccionar las primeras cuatro columnas\n",
        "    primeras_cuatro_columnas = df.iloc[:, :4]\n",
        "\n",
        "    # Crear una lista de diccionarios para las preguntas y respuestas\n",
        "    preguntas_respuestas = []\n",
        "    for index, row in df.iterrows():\n",
        "        for pregunta, respuesta in zip(textos_preguntas, row[4:]):\n",
        "            preguntas_respuestas.append({\"question\": pregunta, \"answer\": respuesta})\n",
        "\n",
        "    # Convertir la lista de diccionarios a formato JSON con ensure_ascii=False para evitar los caracteres Unicode\n",
        "    preguntas_respuestas_json = json.dumps({\"questions\": preguntas_respuestas}, ensure_ascii=False)\n",
        "\n",
        "    # Agregar el JSON al DataFrame original como una nueva columna\n",
        "    df['preguntas_respuestas_json'] = preguntas_respuestas_json\n",
        "\n",
        "    return df\n",
        "\n",
        "\n",
        "\n",
        "# Modificar los datos\n",
        "datos_modificados = modificar_datos(datos_google_sheets)\n",
        "\n",
        "# Guardar el DataFrame modificado en un nuevo archivo de Excel\n",
        "datos_modificados.to_excel(\"archivo_modificado.xlsx\", index=False)\n",
        "\n"
      ],
      "metadata": {
        "id": "O3SSFgah3sDQ"
      },
      "execution_count": null,
      "outputs": []
    },
    {
      "cell_type": "code",
      "source": [
        "import json\n",
        "import pandas as pd\n",
        "\n",
        "# Solicitar al usuario que ingrese el JSON como un texto largo\n",
        "json_text = input(\"Por favor, copia y pega tu JSON aquí:\\n\")\n",
        "\n",
        "# Cargar el JSON desde el texto ingresado por el usuario\n",
        "try:\n",
        "    data = json.loads(json_text)\n",
        "except json.JSONDecodeError as e:\n",
        "    print(\"Error al decodificar el JSON:\", e)\n",
        "    # Puedes manejar el error de alguna manera, como salir del programa\n",
        "    exit()\n",
        "\n",
        "# Inicializar una lista para almacenar los textos de todas las preguntas\n",
        "textos_preguntas = []\n",
        "\n",
        "# Recorrer todas las secciones\n",
        "for section in data.get(\"sections\", []):\n",
        "    # Recorrer todas las preguntas en cada sección\n",
        "    for question in section.get(\"questions\", []):\n",
        "        # Obtener el texto de la pregunta y agregarlo a la lista\n",
        "        pregunta_texto = question.get(\"question\", \"\")\n",
        "        textos_preguntas.append(pregunta_texto)\n",
        "\n",
        "# Imprimir el arreglo de textos de preguntas\n",
        "print(textos_preguntas)\n",
        "\n",
        "def leer_datos_desde_google_sheets(url, columna_final, fila_final):\n",
        "    # Construir la URL para exportar en formato de hoja de cálculo\n",
        "    url_export = url.replace(\"/edit?usp=sharing\", \"/export?format=xlsx\")\n",
        "\n",
        "    # Leer el archivo de Excel desde la URL exportada\n",
        "    df = pd.read_excel(url_export)\n",
        "\n",
        "    # Verificar si la columna final especificada existe en el DataFrame\n",
        "    if columna_final not in df.columns:\n",
        "        raise ValueError(\"La columna final especificada no existe en el DataFrame.\")\n",
        "\n",
        "    # Seleccionar las columnas y filas especificadas\n",
        "    datos_seleccionados = df.loc[:fila_final, :'{}'.format(columna_final)]\n",
        "\n",
        "    return datos_seleccionados\n",
        "\n",
        "# URL del archivo de Google Sheets\n",
        "url_google_sheets = \"https://docs.google.com/spreadsheets/d/1O-5W8wE-5td6TqtaGJzN1xM3oA84VNfWu5qnwlx9Dcw/edit?usp=sharing\"\n",
        "\n",
        "# Columna final y fila final especificadas\n",
        "columna_final = \"p30_e5\"\n",
        "fila_final = 24\n",
        "num_columnas_ini = 5 # numero de columnas al inicio\n",
        "# Leer los datos desde el archivo de Google Sheets\n",
        "datos_google_sheets = leer_datos_desde_google_sheets(url_google_sheets, columna_final, fila_final)\n",
        "\n",
        "def modificar_datos(df):\n",
        "    # Crear una lista de diccionarios para las preguntas y respuestas por fila\n",
        "    preguntas_respuestas_por_fila = []\n",
        "    for index, row in df.iterrows():\n",
        "        preguntas_respuestas = []\n",
        "        for pregunta, respuesta in zip(textos_preguntas, row[num_columnas_ini:]):\n",
        "            preguntas_respuestas.append({\"question\": pregunta, \"answer\": respuesta})\n",
        "        preguntas_respuestas_por_fila.append({\"questions\": preguntas_respuestas})\n",
        "\n",
        "    # Convertir la lista de diccionarios a formato JSON con ensure_ascii=False para evitar los caracteres Unicode\n",
        "    preguntas_respuestas_json_por_fila = [json.dumps(diccionario, ensure_ascii=False) for diccionario in preguntas_respuestas_por_fila]\n",
        "\n",
        "    # Crear una nueva columna en el DataFrame original con los JSONs por fila\n",
        "    df['preguntas_respuestas_json'] = preguntas_respuestas_json_por_fila\n",
        "\n",
        "    return df\n",
        "\n",
        "# Modificar los datos\n",
        "datos_modificados = modificar_datos(datos_google_sheets)\n",
        "# Modificar los datos nuevamente para mantener las primeras cuatro columnas y la última columna generada\n",
        "datos_modificados_nuevamente = datos_modificados.iloc[:, :num_columnas_ini].join(datos_modificados['preguntas_respuestas_json'])\n",
        "\n",
        "# Guardar el DataFrame modificado en un nuevo archivo de Excel\n",
        "datos_modificados_nuevamente.to_excel(\"archivo_modificado_nuevamente.xlsx\", index=False)\n"
      ],
      "metadata": {
        "colab": {
          "base_uri": "https://localhost:8080/"
        },
        "id": "PzYkqZWgxpcT",
        "outputId": "5d5d257b-af39-4484-9dec-76299ab586e3"
      },
      "execution_count": null,
      "outputs": [
        {
          "output_type": "stream",
          "name": "stdout",
          "text": [
            "Por favor, copia y pega tu JSON aquí:\n",
            "{\"title\": \"ENCUESTA SEMANAL - ENFOCO 2024\", \"sections\": [{\"questions\": [{\"type\": \"text\", \"answers\": [], \"question\": \"¿Cómo te has sentido al comenzar el ENFOCO?\"}, {\"type\": \"text\", \"answers\": [], \"question\": \"¿Hubo algún aspecto específico del inicio del programa que destacarías como positivo o desafiante?\"}, {\"type\": \"multiple\", \"answers\": [\"Sesiones de Cultura\", \"Sesiones de  Educar desde y para la inclusión \", \"Sesiones de  Liderando desde el entendimiento del sistema\", \"Sesiones de Charla sobre beneficios laborales\", \"Sesiones de Charla sobre llenado de formatos de ingreso\", \"Sesiones de  PDL 2024 \", \"Sesiones de  Acuerdos de particpación – PDL\", \"Sesión de MEL 2024\", \"Sesión de Reconocer las propias emociones\", \"Sesión de Gestionar el propio bienestar durante el PDL\", \"Reuniones de Liderazgo con mi coordinador\", \"Maestros en acción\", \"Reunión de núcleo\"], \"question\": \"¿Qué actividades o contenidos te resultaron más útiles o significativos hasta ahora? Puedes marcar más de una alternativa\"}, {\"type\": \"text\", \"answers\": [], \"question\": \"¿Has enfrentado algún desafío en la quinta semana? Si es así, ¿cómo lo has abordado?\"}, {\"type\": \"text\", \"answers\": [], \"question\": \"¿Puedes compartir una experiencia positiva o un logro que hayas experimentado durante esta semana de ENFOCO?\"}, {\"type\": \"range\", \"answers\": [\"1\", \"2\", \"3\", \"4\", \"5\"], \"question\": \"Califica del 1 al 5 qué tan claras fueron las comunicaciones en tu clase (horarios y links) hasta este momento, como parte de tu experiencia en el ENFOCO.\"}, {\"type\": \"range\", \"answers\": [\"0\", \"1\", \"2\", \"3\", \"4\", \"5\", \"6\", \"7\", \"8\", \"9\", \"10\"], \"question\": \"Hasta ahora, ¿Con qué grado de seguridad recomendarías a tus colegas o personas interesadas en educación o postulantes de PDL la experiencia vivida en el ENFOCO? \"}, {\"type\": \"text\", \"answers\": [], \"question\": \"¿Hay algo que crees que podría mejorarse en la forma en que se está llevando a cabo el ENFOCO? \"}], \"sectionName\": \"EXPERIENCIA GENERAL\"}, {\"questions\": [{\"type\": \"text\", \"answers\": [], \"question\": \"¿Hubo alguna sesión que destacaste particularmente? ¿Por qué? \"}, {\"type\": \"subsection\", \"answers\": [], \"question\": \"¿Qué tan de acuerdo estás con las siguientes afirmaciones sobre los entornos de aprendizaje de esta semana?\"}, {\"type\": \"single\", \"answers\": [\"Definitivamente NO estoy de acuerdo\", \"NO estoy de acuerdo\", \"Ni de acuerdo, ni en desacuerdo\", \"SÍ estoy de acuerdo\", \"Definitivamente SÍ estoy de acuerdo\"], \"question\": \"A) Las actividades de aprendizaje me hacen sentir retadx y motivadx\"}, {\"type\": \"single\", \"answers\": [\"Definitivamente NO estoy de acuerdo\", \"NO estoy de acuerdo\", \"Ni de acuerdo, ni en desacuerdo\", \"SÍ estoy de acuerdo\", \"Definitivamente SÍ estoy de acuerdo\"], \"question\": \"B) Lo que aprendo en las sesiones aporta a nivel personal y profesional\"}, {\"type\": \"single\", \"answers\": [\"Definitivamente NO estoy de acuerdo\", \"NO estoy de acuerdo\", \"Ni de acuerdo, ni en desacuerdo\", \"SÍ estoy de acuerdo\", \"Definitivamente SÍ estoy de acuerdo\"], \"question\": \"C) Las sesiones de formación son relavantes y relacionadas a las necesidades y desafíos que tengo como PEP  \"}, {\"type\": \"single\", \"answers\": [\"Definitivamente NO estoy de acuerdo\", \"NO estoy de acuerdo\", \"Ni de acuerdo, ni en desacuerdo\", \"SÍ estoy de acuerdo\", \"Definitivamente SÍ estoy de acuerdo\"], \"question\": \"D) Entiendo de qué manera se evalúa mi desempeño en cada EDA y cómo puedo evidenciarlo\"}, {\"type\": \"single\", \"answers\": [\"Definitivamente NO estoy de acuerdo\", \"NO estoy de acuerdo\", \"Ni de acuerdo, ni en desacuerdo\", \"SÍ estoy de acuerdo\", \"Definitivamente SÍ estoy de acuerdo\"], \"question\": \"E) Las sesiones son espacios seguros donde se fomenta un clima positivo de aprendizaje\"}, {\"type\": \"range\", \"answers\": [\"0\", \"1\", \"2\", \"3\", \"4\", \"5\", \"6\", \"7\", \"8\", \"9\", \"10\"], \"question\": \"¿Qué probabilidades existe de que recomiendes la Formación del ENFOCO a un amiga(o) o compañera(o)?\"}, {\"type\": \"text\", \"answers\": [], \"question\": \"Si no marcaste 10, qué cambiarías de este entorno de aprendizaje para mejorarlo\"}], \"sectionName\": \"Formación\"}, {\"questions\": [{\"type\": \"text\", \"answers\": [], \"question\": \"¿Cómo describirías la interacción con tu coordinador durante esta semana? \"}, {\"type\": \"subsection\", \"answers\": [], \"question\": \"Cuéntanos qué tan de acuerdo estás con las siguientes afirmaciones sobre el acompañamiento recibido hasta el momento.\"}, {\"type\": \"single\", \"answers\": [\"Totalmente en desacuerdo\", \"En desacuerdo\", \"De acuerdo\", \"Totalmente de acuerdo\"], \"question\": \"Me siento con a confianza suficiente para hablar con mi coordinador/a sobre mí y los retos de mi experiencia.\"}, {\"type\": \"single\", \"answers\": [\"Totalmente en desacuerdo\", \"En desacuerdo\", \"De acuerdo\", \"Totalmente de acuerdo\"], \"question\": \"Las reuniones de liderazgo esta semana me ayudaron a ganar claridad sobre mi PPL\"}, {\"type\": \"single\", \"answers\": [\"Totalmente en desacuerdo\", \"En desacuerdo\", \"De acuerdo\", \"Totalmente de acuerdo\"], \"question\": \"La experiencia del acompañamiento me ayudó a abordar mis desafíos\"}, {\"type\": \"single\", \"answers\": [\"Mínima contribución\", \"Contribución moderada\", \"Contribución significativa\", \"Contribución muy significativa\"], \"question\": \"Sobre “Maestros en Acción” ¿En qué medida sientes que las retroalimentaciones proporcionadas por tu coordinador y compañeros han contribuido a tu aprendizaje y mejora continua?\"}, {\"type\": \"range\", \"answers\": [\"1\", \"2\", \"3\", \"4\", \"5\", \"6\", \"7\", \"8\", \"9\", \"10\"], \"question\": \"¿Qué probabilidades existe de que recomiendes el espacio de “Maestros en Acción” a un amiga(o) o compañera(o)?\"}, {\"type\": \"text\", \"answers\": [], \"question\": \"En tu opinión, ¿cómo podríamos mejorar la experiencia en \\\"Maestros en Acción\\\" para maximizar tu aprendizaje y aplicación práctica de competencias de liderazgo pedagógico?\"}, {\"type\": \"text\", \"answers\": [], \"question\": \"¿Tienes alguna pregunta o inquietud que no pudiste abordar con tu coordinador y que te gustaría compartir?\"}, {\"type\": \"range\", \"answers\": [\"1\", \"2\", \"3\", \"4\", \"5\", \"6\", \"7\", \"8\", \"9\", \"10\"], \"question\": \"¿Qué probabilidades existe de que recomiendes el acompañamiento brindado por tu coordinador a un amiga(o) o compañera(o)? Marca del 1 al 10, donde 1 es \\\"nada probable\\\" y 10 es \\\"muy probable\\\"\"}, {\"type\": \"single\", \"answers\": [\"Trabajar en su paciencia, empatía y liderazgo\", \"Variar el horario para el acompañamiento.\", \"Mayor espacio de acompañamiento, monitoreo y recomendaciones\", \"Ya realiza una excelente labor\", \"Profundizar en los temas aprendidos\", \"Mejorar la comunicación\", \"Incluir otras actividades\", \"Gestionar mejor el tiempo\", \"Aún no he compartido con mi coordinador/a\", \"Otro\"], \"question\": \"Déjale algunas recomendaciones a tu coordinador para ayudarle a mejorar\"}, {\"type\": \"text\", \"answers\": [], \"question\": \"Si marcaste otro ¿cuál sería? – pregunta abierta\"}], \"sectionName\": \"Acompañamiento\"}, {\"questions\": [{\"type\": \"range\", \"answers\": [\"1\", \"2\", \"3\", \"4\", \"5\"], \"question\": \"En una escala del 1 al 5, ¿cómo calificarías la efectividad de los espacios de cultura para fortalecer el sentido de comunidad y pertenencia durante el ENFOCO? - 1 (Nada efectivo) - 5 (Muy efectivo)\"}, {\"type\": \"text\", \"answers\": [], \"question\": \"En tu opinión, ¿cuál ha sido el aspecto más destacado de los espacios de cultura durante el ENFOCO?\"}, {\"type\": \"single\", \"answers\": [\"Contribución mínima\", \"Contribución moderada\", \"Contribución significativa\", \"Contribución muy significativa\"], \"question\": \"¿En qué medida sientes que los espacios de cultura han contribuido al fortalecimiento de autoconocimiento y reflexión de tu historia personal?\"}, {\"type\": \"range\", \"answers\": [\"0\", \"1\", \"2\", \"3\", \"4\", \"5\", \"6\", \"7\", \"8\", \"9\", \"10\"], \"question\": \"En una escala del 0 al 10, ¿cuán probable es que recomendarías las sesiones de cultura a un colega o amigo?\"}, {\"type\": \"text\", \"answers\": [], \"question\": \"¿Cómo podríamos mejorar o ajustar los espacios de cultura para que sean más efectivos en el futuro?\"}], \"sectionName\": \"CULTURA\"}, {\"questions\": [{\"type\": \"range\", \"answers\": [\"1\", \"2\", \"3\", \"4\", \"5\"], \"question\": \"Califica del 1 al 5 ¿Qué tan fácil fue subir mis evidencias certificadoras?\"}, {\"type\": \"range\", \"answers\": [\"1\", \"2\", \"3\", \"4\", \"5\"], \"question\": \"Califica del 1 al 5 ¿Sientes que te ha ayudado los videos tutoriales en esta semana? \"}, {\"type\": \"range\", \"answers\": [\"1\", \"2\", \"3\", \"4\", \"5\"], \"question\": \"Califica del 1 al 5 ¿Estás satisfecho con el soporte brindado cuando tenías dudas/problemas con la Web de Enseña Perú?\"}, {\"type\": \"text\", \"answers\": [], \"question\": \"¿Qué nos faltó para poder calificar como un 5?\"}, {\"type\": \"range\", \"answers\": [\"0\", \"1\", \"2\", \"3\", \"4\", \"5\", \"6\", \"7\", \"8\", \"9\", \"10\"], \"question\": \"¿Qué probabilidades existe de que recomiendes la Web de Enseña Perú a un amiga(o) o compañera(o)? Escala del 0 al 10\"}, {\"type\": \"text\", \"answers\": [], \"question\": \"Indícanos una fortaleza y una oportunidad de mejora para el equipo MEL\"}], \"sectionName\": \"MEL\"}], \"description\": \"Hola, ayúdanos a seguir mejorando la experiencia en el ENFOCO. Esta encuesta te tomará de 3 a 5m realizarla.\"}\n",
            "['¿Cómo te has sentido al comenzar el ENFOCO?', '¿Hubo algún aspecto específico del inicio del programa que destacarías como positivo o desafiante?', '¿Qué actividades o contenidos te resultaron más útiles o significativos hasta ahora? Puedes marcar más de una alternativa', '¿Has enfrentado algún desafío en la quinta semana? Si es así, ¿cómo lo has abordado?', '¿Puedes compartir una experiencia positiva o un logro que hayas experimentado durante esta semana de ENFOCO?', 'Califica del 1 al 5 qué tan claras fueron las comunicaciones en tu clase (horarios y links) hasta este momento, como parte de tu experiencia en el ENFOCO.', 'Hasta ahora, ¿Con qué grado de seguridad recomendarías a tus colegas o personas interesadas en educación o postulantes de PDL la experiencia vivida en el ENFOCO? ', '¿Hay algo que crees que podría mejorarse en la forma en que se está llevando a cabo el ENFOCO? ', '¿Hubo alguna sesión que destacaste particularmente? ¿Por qué? ', '¿Qué tan de acuerdo estás con las siguientes afirmaciones sobre los entornos de aprendizaje de esta semana?', 'A) Las actividades de aprendizaje me hacen sentir retadx y motivadx', 'B) Lo que aprendo en las sesiones aporta a nivel personal y profesional', 'C) Las sesiones de formación son relavantes y relacionadas a las necesidades y desafíos que tengo como PEP  ', 'D) Entiendo de qué manera se evalúa mi desempeño en cada EDA y cómo puedo evidenciarlo', 'E) Las sesiones son espacios seguros donde se fomenta un clima positivo de aprendizaje', '¿Qué probabilidades existe de que recomiendes la Formación del ENFOCO a un amiga(o) o compañera(o)?', 'Si no marcaste 10, qué cambiarías de este entorno de aprendizaje para mejorarlo', '¿Cómo describirías la interacción con tu coordinador durante esta semana? ', 'Cuéntanos qué tan de acuerdo estás con las siguientes afirmaciones sobre el acompañamiento recibido hasta el momento.', 'Me siento con a confianza suficiente para hablar con mi coordinador/a sobre mí y los retos de mi experiencia.', 'Las reuniones de liderazgo esta semana me ayudaron a ganar claridad sobre mi PPL', 'La experiencia del acompañamiento me ayudó a abordar mis desafíos', 'Sobre “Maestros en Acción” ¿En qué medida sientes que las retroalimentaciones proporcionadas por tu coordinador y compañeros han contribuido a tu aprendizaje y mejora continua?', '¿Qué probabilidades existe de que recomiendes el espacio de “Maestros en Acción” a un amiga(o) o compañera(o)?', 'En tu opinión, ¿cómo podríamos mejorar la experiencia en \"Maestros en Acción\" para maximizar tu aprendizaje y aplicación práctica de competencias de liderazgo pedagógico?', '¿Tienes alguna pregunta o inquietud que no pudiste abordar con tu coordinador y que te gustaría compartir?', '¿Qué probabilidades existe de que recomiendes el acompañamiento brindado por tu coordinador a un amiga(o) o compañera(o)? Marca del 1 al 10, donde 1 es \"nada probable\" y 10 es \"muy probable\"', 'Déjale algunas recomendaciones a tu coordinador para ayudarle a mejorar', 'Si marcaste otro ¿cuál sería? – pregunta abierta', 'En una escala del 1 al 5, ¿cómo calificarías la efectividad de los espacios de cultura para fortalecer el sentido de comunidad y pertenencia durante el ENFOCO? - 1 (Nada efectivo) - 5 (Muy efectivo)', 'En tu opinión, ¿cuál ha sido el aspecto más destacado de los espacios de cultura durante el ENFOCO?', '¿En qué medida sientes que los espacios de cultura han contribuido al fortalecimiento de autoconocimiento y reflexión de tu historia personal?', 'En una escala del 0 al 10, ¿cuán probable es que recomendarías las sesiones de cultura a un colega o amigo?', '¿Cómo podríamos mejorar o ajustar los espacios de cultura para que sean más efectivos en el futuro?', 'Califica del 1 al 5 ¿Qué tan fácil fue subir mis evidencias certificadoras?', 'Califica del 1 al 5 ¿Sientes que te ha ayudado los videos tutoriales en esta semana? ', 'Califica del 1 al 5 ¿Estás satisfecho con el soporte brindado cuando tenías dudas/problemas con la Web de Enseña Perú?', '¿Qué nos faltó para poder calificar como un 5?', '¿Qué probabilidades existe de que recomiendes la Web de Enseña Perú a un amiga(o) o compañera(o)? Escala del 0 al 10', 'Indícanos una fortaleza y una oportunidad de mejora para el equipo MEL']\n"
          ]
        }
      ]
    }
  ]
}